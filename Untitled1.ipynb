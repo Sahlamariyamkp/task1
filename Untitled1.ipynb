{
  "nbformat": 4,
  "nbformat_minor": 0,
  "metadata": {
    "colab": {
      "provenance": []
    },
    "kernelspec": {
      "name": "python3",
      "display_name": "Python 3"
    },
    "language_info": {
      "name": "python"
    }
  },
  "cells": [
    {
      "cell_type": "code",
      "execution_count": null,
      "metadata": {
        "colab": {
          "base_uri": "https://localhost:8080/"
        },
        "id": "d0xmqtAeN34X",
        "outputId": "b019ee16-3799-4230-eb0d-cf94ba054d86"
      },
      "outputs": [
        {
          "output_type": "stream",
          "name": "stdout",
          "text": [
            "this is my first function\n"
          ]
        }
      ],
      "source": [
        "def myfunction():\n",
        "  print(\"this is my first function\")\n",
        "myfunction()  \n",
        "   "
      ]
    },
    {
      "cell_type": "code",
      "source": [
        "def mysecfunction(name):\n",
        "  print(name + \" is good\")\n",
        "mysecfunction(\"sahla\")  \n",
        "   "
      ],
      "metadata": {
        "colab": {
          "base_uri": "https://localhost:8080/"
        },
        "id": "z6z-gxhVPLlF",
        "outputId": "77625ada-ec02-475d-dd4c-709a7f7a3770"
      },
      "execution_count": null,
      "outputs": [
        {
          "output_type": "stream",
          "name": "stdout",
          "text": [
            "sahla is good\n"
          ]
        }
      ]
    },
    {
      "cell_type": "code",
      "source": [
        "def myfunction(fname,lname):\n",
        "  print(fname+lname + \" is good\")\n",
        "myfunction(\"sahla\",\"mariyam\") "
      ],
      "metadata": {
        "colab": {
          "base_uri": "https://localhost:8080/"
        },
        "id": "TpjQELb3Qewh",
        "outputId": "0a98bc5a-a3dd-471f-8d7c-4578b7f2c500"
      },
      "execution_count": null,
      "outputs": [
        {
          "output_type": "stream",
          "name": "stdout",
          "text": [
            "sahlamariyam is good\n"
          ]
        }
      ]
    },
    {
      "cell_type": "code",
      "source": [
        "def firstfunction(*names):\n",
        "  print(\"the good person is \" + names[1])\n",
        "firstfunction(\"sahla\",\"sana\",\"hiba\",\"safa\")  \n"
      ],
      "metadata": {
        "colab": {
          "base_uri": "https://localhost:8080/"
        },
        "id": "5zeqsSFqSBqw",
        "outputId": "90128676-6a12-4a3f-8b47-ea514bd8607c"
      },
      "execution_count": null,
      "outputs": [
        {
          "output_type": "stream",
          "name": "stdout",
          "text": [
            "the good person is sana\n"
          ]
        }
      ]
    },
    {
      "cell_type": "code",
      "source": [
        "def myfun(child1,child2,child3):\n",
        "  print(\"the young child is \" +child1)\n",
        "myfun(child1=\"emi\",child2=\"fathi\",child3=\"manu\")  "
      ],
      "metadata": {
        "colab": {
          "base_uri": "https://localhost:8080/"
        },
        "id": "5jAtKLc2Uk5l",
        "outputId": "49ef16ef-c142-4c44-a2b5-743a93bf20ae"
      },
      "execution_count": null,
      "outputs": [
        {
          "output_type": "stream",
          "name": "stdout",
          "text": [
            "the young child is emi\n"
          ]
        }
      ]
    },
    {
      "cell_type": "code",
      "source": [
        "#arbitrary keyword arguments,**kwargs\n",
        "def myfun(**child):\n",
        "  print(\"his  name is \" + child[\"child1\"])\n",
        "myfun(child1=\"emi\",child2=\"fathi\",child3=\"manu\")  "
      ],
      "metadata": {
        "colab": {
          "base_uri": "https://localhost:8080/"
        },
        "id": "OzsBZFH2VNAP",
        "outputId": "b1433f9d-a210-4147-e66b-89e80421eacf"
      },
      "execution_count": null,
      "outputs": [
        {
          "output_type": "stream",
          "name": "stdout",
          "text": [
            "his  name is emi\n"
          ]
        }
      ]
    },
    {
      "cell_type": "code",
      "source": [
        "def  palindrome():\n",
        "  n=input(\"enter a string\")\n",
        "  if n==n[::-1]:\n",
        "     print(\"palindrome\")\n",
        "  else:\n",
        "     print(\"not palindrome\")\n",
        "palindrome()  \n"
      ],
      "metadata": {
        "colab": {
          "base_uri": "https://localhost:8080/"
        },
        "id": "vd72go7wYdro",
        "outputId": "80581a35-2033-4c2c-ec76-34b8194e5608"
      },
      "execution_count": null,
      "outputs": [
        {
          "output_type": "stream",
          "name": "stdout",
          "text": [
            "enter a stringsahla\n",
            "not palindrome\n"
          ]
        }
      ]
    },
    {
      "cell_type": "code",
      "source": [
        "def prime():\n",
        "  a=int(input(\"enter a number :\"))\n",
        "  for i in range(2,a):\n",
        "   if a % i==0:\n",
        "     print(\"not prime\")\n",
        "     break\n",
        "   else:\n",
        "      print(\" prime\")  \n",
        "      break\n",
        "prime()   "
      ],
      "metadata": {
        "colab": {
          "base_uri": "https://localhost:8080/"
        },
        "id": "3HWXBEhMbwLV",
        "outputId": "d4b36fbb-29d1-4ece-e41a-429f60c8b105"
      },
      "execution_count": null,
      "outputs": [
        {
          "output_type": "stream",
          "name": "stdout",
          "text": [
            "enter a number :3\n",
            " prime\n"
          ]
        }
      ]
    }
  ]
}